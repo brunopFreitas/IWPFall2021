{
 "cells": [
  {
   "cell_type": "markdown",
   "source": [
    "# Assignment 1\n",
    "\n",
    "## Total: 35pts"
   ],
   "metadata": {
    "colab_type": "text",
    "id": "-ycSUdCI6y9U"
   }
  },
  {
   "cell_type": "markdown",
   "source": [
    "### Part A - Write Code! (5pts)\n",
    "\n",
    "For each item below, determine the appropriate JavaScript code to generate the desired output.\n",
    "\n",
    "---"
   ],
   "metadata": {
    "colab_type": "text",
    "id": "Wu4GRcHW6y9Z"
   }
  },
  {
   "cell_type": "markdown",
   "source": [
    "1) Display your name and student ID to the console."
   ],
   "metadata": {
    "colab_type": "text",
    "id": "nTt4W7Ld6y9b"
   }
  },
  {
   "cell_type": "code",
   "execution_count": 1,
   "source": [
    "console.log(\"Bruno Freitas\" + \"W0448225\")"
   ],
   "outputs": [
    {
     "output_type": "stream",
     "name": "stdout",
     "text": [
      "Bruno FreitasW0448225\n"
     ]
    }
   ],
   "metadata": {
    "colab": {},
    "colab_type": "code",
    "hide_input": false,
    "id": "WzPxfS7A6y9e"
   }
  },
  {
   "cell_type": "markdown",
   "source": [
    "Jane Doe W0123456"
   ],
   "metadata": {
    "colab_type": "text",
    "id": "Es-ulO716y9m"
   }
  },
  {
   "cell_type": "markdown",
   "source": [
    "---"
   ],
   "metadata": {
    "colab_type": "text",
    "id": "5fUTfuYX6y9p"
   }
  },
  {
   "cell_type": "markdown",
   "source": [
    "2) Create a variable, called __num__, to hold the integer value, __10__. Then, display the contents of the variable."
   ],
   "metadata": {
    "colab_type": "text",
    "id": "f2XqD7Ya6y9q"
   }
  },
  {
   "cell_type": "code",
   "execution_count": 2,
   "source": [
    "var num = 10\r\n",
    "console.log(num)"
   ],
   "outputs": [
    {
     "output_type": "stream",
     "name": "stdout",
     "text": [
      "10\n"
     ]
    }
   ],
   "metadata": {
    "colab": {},
    "colab_type": "code",
    "id": "oBwsAgVF6y9s"
   }
  },
  {
   "cell_type": "markdown",
   "source": [
    "10"
   ],
   "metadata": {
    "colab_type": "text",
    "id": "l_Q8MbM86y9z"
   }
  },
  {
   "cell_type": "markdown",
   "source": [
    "---"
   ],
   "metadata": {
    "colab_type": "text",
    "id": "abgJYaMv6y91"
   }
  },
  {
   "cell_type": "markdown",
   "source": [
    "3) Create a variable to hold the name of your favourite TV character. Then, use string concatenation to display the message \"My favourite TV star is: \" with the variable contents appended. (e.g. \"My favourite TV star is: Homer Simpson\")"
   ],
   "metadata": {
    "colab_type": "text",
    "id": "QgmpkjOE6y93"
   }
  },
  {
   "cell_type": "code",
   "execution_count": 3,
   "source": [
    "var favouriteTvCharacter = \"Bojack Horseman\"\r\n",
    "console.log(\"My favourite TV star is: \" + favouriteTvCharacter)"
   ],
   "outputs": [
    {
     "output_type": "stream",
     "name": "stdout",
     "text": [
      "My favourite TV star is: Bojack Horseman\n"
     ]
    }
   ],
   "metadata": {
    "colab": {},
    "colab_type": "code",
    "id": "36FjBTTw6y95"
   }
  },
  {
   "cell_type": "markdown",
   "source": [
    "My favourite TV star is: Homer Simpson"
   ],
   "metadata": {
    "colab_type": "text",
    "id": "yblg8E4p6y9_"
   }
  },
  {
   "cell_type": "markdown",
   "source": [
    "---"
   ],
   "metadata": {
    "colab_type": "text",
    "id": "Z1ZTYMrg6y-A"
   }
  },
  {
   "cell_type": "markdown",
   "source": [
    "4) Display Santa Clause's catch phrase (Ho Ho Ho) using the string repeat method."
   ],
   "metadata": {
    "colab_type": "text",
    "id": "5wf6aWFu6y-C"
   }
  },
  {
   "cell_type": "code",
   "execution_count": 4,
   "source": [
    "\"Ho \".repeat(3)"
   ],
   "outputs": [
    {
     "output_type": "execute_result",
     "data": {
      "text/plain": [
       "'Ho Ho Ho '"
      ]
     },
     "metadata": {},
     "execution_count": 4
    }
   ],
   "metadata": {
    "colab": {},
    "colab_type": "code",
    "id": "Zb2fu3Vi6y-D"
   }
  },
  {
   "cell_type": "markdown",
   "source": [
    "Ho Ho Ho "
   ],
   "metadata": {
    "colab_type": "text",
    "id": "_1Rqco0g6y-I"
   }
  },
  {
   "cell_type": "markdown",
   "source": [
    "---"
   ],
   "metadata": {
    "colab_type": "text",
    "id": "Hzr0pZwz6y-K"
   }
  },
  {
   "cell_type": "markdown",
   "source": [
    "5) Create the JavaScript statement to calculate the following mathematical expression: $2 + 3 \\times 4 - 6 \\div 3 $"
   ],
   "metadata": {
    "colab_type": "text",
    "id": "A835cS6V6y-M"
   }
  },
  {
   "cell_type": "code",
   "execution_count": 5,
   "source": [
    "var expression = 2+(3*4) - (6/3)\r\n",
    "console.log(expression)"
   ],
   "outputs": [
    {
     "output_type": "stream",
     "name": "stdout",
     "text": [
      "12\n"
     ]
    }
   ],
   "metadata": {
    "colab": {},
    "colab_type": "code",
    "id": "0WBkOlyU6y-N"
   }
  },
  {
   "cell_type": "markdown",
   "source": [
    "12"
   ],
   "metadata": {
    "colab_type": "text",
    "id": "b0lboah16y-S"
   }
  },
  {
   "cell_type": "markdown",
   "source": [
    "---"
   ],
   "metadata": {
    "colab_type": "text",
    "id": "E-mgGgbG6y-U"
   }
  },
  {
   "cell_type": "markdown",
   "source": [
    "### Part B - Fix the Error! (15pts)\n",
    "\n",
    "Listed below are several snippets of code that contain small errors. For each of the questions, __correct the error__ so the code will generate the desired output.\n",
    "\n",
    "---"
   ],
   "metadata": {
    "colab_type": "text",
    "id": "clFbvpgn6y-V"
   }
  },
  {
   "cell_type": "markdown",
   "source": [
    "6) Display a string of text on the screen."
   ],
   "metadata": {
    "colab_type": "text",
    "id": "MvbrIaDp6y-X"
   }
  },
  {
   "cell_type": "code",
   "execution_count": null,
   "source": [
    "console.log \"This is a story about a man named Jed.\""
   ],
   "outputs": [],
   "metadata": {
    "colab": {},
    "colab_type": "code",
    "id": "tV81pJmY6y-Z"
   }
  },
  {
   "cell_type": "markdown",
   "source": [
    "This is a story about a man named Jed."
   ],
   "metadata": {
    "colab_type": "text",
    "hide_input": false,
    "id": "bxFcQ3OL6y-e"
   }
  },
  {
   "cell_type": "markdown",
   "source": [
    "---"
   ],
   "metadata": {
    "colab_type": "text",
    "id": "C25pX2RK6y-g"
   }
  },
  {
   "cell_type": "markdown",
   "source": [
    "7) Display a string and a decimal number. (Note: Do this one without using string concatentation.)"
   ],
   "metadata": {
    "colab_type": "text",
    "id": "ktSlWc6N6y-h"
   }
  },
  {
   "cell_type": "code",
   "execution_count": null,
   "source": [
    "console.log(\"PI =\" 3.14159)"
   ],
   "outputs": [],
   "metadata": {
    "colab": {},
    "colab_type": "code",
    "id": "hLpjaTaf6y-i"
   }
  },
  {
   "cell_type": "markdown",
   "source": [
    "PI = 3.14159"
   ],
   "metadata": {
    "colab_type": "text",
    "hide_input": false,
    "id": "xO_FFzZY6y-m"
   }
  },
  {
   "cell_type": "markdown",
   "source": [
    "---"
   ],
   "metadata": {
    "colab_type": "text",
    "id": "9QoBU_y66y-n"
   }
  },
  {
   "cell_type": "markdown",
   "source": [
    "8) Fix the calculation."
   ],
   "metadata": {
    "colab_type": "text",
    "id": "JqoR_7nD6y-p"
   }
  },
  {
   "cell_type": "code",
   "execution_count": null,
   "source": [
    "console.log(\"1 + 2\")"
   ],
   "outputs": [],
   "metadata": {
    "colab": {},
    "colab_type": "code",
    "id": "XgzRrjS76y-q"
   }
  },
  {
   "cell_type": "markdown",
   "source": [
    "3"
   ],
   "metadata": {
    "colab_type": "text",
    "hide_input": false,
    "id": "T80xIQNw6y-v"
   }
  },
  {
   "cell_type": "markdown",
   "source": [
    "---"
   ],
   "metadata": {
    "colab_type": "text",
    "id": "DFA2VS036y-y"
   }
  },
  {
   "cell_type": "markdown",
   "source": [
    "9) Fix the calculation."
   ],
   "metadata": {
    "colab_type": "text",
    "id": "4E936jWH6y-z"
   }
  },
  {
   "cell_type": "code",
   "execution_count": null,
   "source": [
    "console.log(\"3 cubed =\", 3 * 3)"
   ],
   "outputs": [],
   "metadata": {
    "colab": {},
    "colab_type": "code",
    "id": "IfmIJzCw6y-0"
   }
  },
  {
   "cell_type": "markdown",
   "source": [
    "3 cubed = 27"
   ],
   "metadata": {
    "colab_type": "text",
    "hide_input": false,
    "id": "QWoZX78Y6y-2"
   }
  },
  {
   "cell_type": "markdown",
   "source": [
    "---"
   ],
   "metadata": {
    "colab_type": "text",
    "id": "2cshrCMI6y-4"
   }
  },
  {
   "cell_type": "markdown",
   "source": [
    "10) Fix the template literal to display a name in the format <em>&lt;last name&gt;, &lt;first name&gt;</em>"
   ],
   "metadata": {
    "colab_type": "text",
    "id": "qDoiSp5n6y-6"
   }
  },
  {
   "cell_type": "code",
   "execution_count": null,
   "source": [
    "var firstName = \"John\"\r\n",
    "var lastName = \"Smith\"\r\n",
    "console.log('${lastName}, ${firstName}')"
   ],
   "outputs": [],
   "metadata": {
    "colab": {},
    "colab_type": "code",
    "id": "MzATP0zW6y-7"
   }
  },
  {
   "cell_type": "markdown",
   "source": [
    "Smith, John"
   ],
   "metadata": {
    "colab_type": "text",
    "hide_input": false,
    "id": "p7efUk0_6y_A"
   }
  },
  {
   "cell_type": "markdown",
   "source": [
    "---"
   ],
   "metadata": {
    "colab_type": "text",
    "id": "WBPb2GYB6y_A"
   }
  },
  {
   "cell_type": "markdown",
   "source": [
    "11) Display the answer of an integer division and the remainder. There should not be any decimal points displayed."
   ],
   "metadata": {
    "colab_type": "text",
    "id": "-fePfJ-l6y_D"
   }
  },
  {
   "cell_type": "code",
   "execution_count": null,
   "source": [
    "console.log(\"13 / 5 =\", 13/5, \"remainder\", 13/5)"
   ],
   "outputs": [],
   "metadata": {
    "colab": {},
    "colab_type": "code",
    "id": "pU0SZtVT6y_D"
   }
  },
  {
   "cell_type": "markdown",
   "source": [
    "13 / 5 = 2 remainder 3"
   ],
   "metadata": {
    "colab_type": "text",
    "hide_input": false,
    "id": "ZHMyYGDr6y_H"
   }
  },
  {
   "cell_type": "markdown",
   "source": [
    "---"
   ],
   "metadata": {
    "colab_type": "text",
    "id": "Jj5xRTax6y_I"
   }
  },
  {
   "cell_type": "markdown",
   "source": [
    "12) Correct the following calculation to convert 100&deg; Celsius to Fahrenheit."
   ],
   "metadata": {
    "colab_type": "text",
    "id": "mdXkqJSQ6y_K"
   }
  },
  {
   "cell_type": "code",
   "execution_count": null,
   "source": [
    "temperature = 100.0\r\n",
    "console.log(temperature + 32 * 9 / 5)"
   ],
   "outputs": [],
   "metadata": {
    "colab": {},
    "colab_type": "code",
    "id": "2lG5lMjV6y_L"
   }
  },
  {
   "cell_type": "markdown",
   "source": [
    "212"
   ],
   "metadata": {
    "colab_type": "text",
    "hide_input": false,
    "id": "Li8GQBhP6y_P"
   }
  },
  {
   "cell_type": "markdown",
   "source": [
    "---"
   ],
   "metadata": {
    "colab_type": "text",
    "id": "fPefqaRC6y_Q"
   }
  },
  {
   "cell_type": "markdown",
   "source": [
    "13) Correct the following to calculate and display the expected answer."
   ],
   "metadata": {
    "colab_type": "text",
    "id": "zDfgedeQ6y_R"
   }
  },
  {
   "cell_type": "code",
   "execution_count": null,
   "source": [
    "console.log(\"1 + 2 =\" + 1 + 2)"
   ],
   "outputs": [],
   "metadata": {
    "colab": {},
    "colab_type": "code",
    "id": "QxYwQGT_6y_S"
   }
  },
  {
   "cell_type": "markdown",
   "source": [
    "1 + 2 = 3"
   ],
   "metadata": {
    "colab_type": "text",
    "hide_input": false,
    "id": "oHjfY8WX6y_U"
   }
  },
  {
   "cell_type": "markdown",
   "source": [
    "---"
   ],
   "metadata": {
    "colab_type": "text",
    "id": "j-9PA9_k6y_V"
   }
  },
  {
   "cell_type": "markdown",
   "source": [
    "14) Correct the following to display the desired output."
   ],
   "metadata": {
    "colab_type": "text",
    "id": "X5D1SkqU6y_W"
   }
  },
  {
   "cell_type": "code",
   "execution_count": null,
   "source": [
    "var ninety-nine = 99\r\n",
    "console.log(\"Number = \" + ninety-nine)"
   ],
   "outputs": [],
   "metadata": {
    "colab": {},
    "colab_type": "code",
    "id": "G5712cAE6y_X"
   }
  },
  {
   "cell_type": "markdown",
   "source": [
    "Number = 99"
   ],
   "metadata": {
    "colab_type": "text",
    "hide_input": false,
    "id": "96UK1g5z6y_b"
   }
  },
  {
   "cell_type": "markdown",
   "source": [
    "---"
   ],
   "metadata": {
    "colab_type": "text",
    "id": "xt8Nvun06y_c"
   }
  },
  {
   "cell_type": "markdown",
   "source": [
    "15) Use a single print statement to print on multiple lines."
   ],
   "metadata": {
    "colab_type": "text",
    "id": "E6vzuJbj6y_d"
   }
  },
  {
   "cell_type": "code",
   "execution_count": null,
   "source": [
    "console.log(\"This is on multiple lines.\")"
   ],
   "outputs": [],
   "metadata": {
    "colab": {},
    "colab_type": "code",
    "id": "ikSIAVWP6y_f"
   }
  },
  {
   "cell_type": "markdown",
   "source": [
    "This is<br>\n",
    "on multiple<br>\n",
    "lines."
   ],
   "metadata": {
    "colab_type": "text",
    "hide_input": false,
    "id": "A8abaWIK6y_i"
   }
  },
  {
   "cell_type": "markdown",
   "source": [
    "---"
   ],
   "metadata": {
    "colab_type": "text",
    "id": "tqq23ggf6y_j"
   }
  },
  {
   "cell_type": "markdown",
   "source": [
    "16) Comment out the first line."
   ],
   "metadata": {
    "colab_type": "text",
    "id": "A5dYC_Im6y_k"
   }
  },
  {
   "cell_type": "code",
   "execution_count": null,
   "source": [
    "console.log(\"This is just a comment.\")\r\n",
    "console.log(\"You should only see this line.\")"
   ],
   "outputs": [],
   "metadata": {
    "colab": {},
    "colab_type": "code",
    "id": "F2c7Ps2K6y_l"
   }
  },
  {
   "cell_type": "markdown",
   "source": [
    "You should only see this line."
   ],
   "metadata": {
    "colab_type": "text",
    "hide_input": false,
    "id": "UBjft-_Q6y_o"
   }
  },
  {
   "cell_type": "markdown",
   "source": [
    "---"
   ],
   "metadata": {
    "colab_type": "text",
    "id": "dIlFC3t36y_p"
   }
  },
  {
   "cell_type": "markdown",
   "source": [
    "17) Make some ASCII art!"
   ],
   "metadata": {
    "colab_type": "text",
    "id": "T-rGL5rf6y_p"
   }
  },
  {
   "cell_type": "code",
   "execution_count": null,
   "source": [
    "console.log(\".     . \\ O /  - -   |   ^  / \\ -   -\")"
   ],
   "outputs": [],
   "metadata": {
    "colab": {},
    "colab_type": "code",
    "id": "UNfkaCmd6y_q"
   }
  },
  {
   "cell_type": "markdown",
   "source": [
    "<pre>\n",
    ".     .\n",
    " \\ O /\n",
    "  - -\n",
    "   |\n",
    "   ^\n",
    "  / \\\n",
    " -   -\n",
    " </pre>"
   ],
   "metadata": {
    "colab_type": "text",
    "hide_input": false,
    "id": "13-5dgUB6y_t"
   }
  },
  {
   "cell_type": "markdown",
   "source": [
    "---"
   ],
   "metadata": {
    "colab_type": "text",
    "id": "HtT9IyLW6y_t"
   }
  },
  {
   "cell_type": "markdown",
   "source": [
    "18) A couple of problems here...."
   ],
   "metadata": {
    "colab_type": "text",
    "id": "y8t5sNEJ6y_v"
   }
  },
  {
   "cell_type": "code",
   "execution_count": null,
   "source": [
    "var not = \"not\"\r\n",
    "console.log(`Something's $(not) right ` - \"here.\")"
   ],
   "outputs": [],
   "metadata": {
    "colab": {},
    "colab_type": "code",
    "id": "18i2xD8I6y_w"
   }
  },
  {
   "cell_type": "markdown",
   "source": [
    "Something's not right here."
   ],
   "metadata": {
    "colab_type": "text",
    "hide_input": false,
    "id": "e4rOW-WF6y_z"
   }
  },
  {
   "cell_type": "markdown",
   "source": [
    "---"
   ],
   "metadata": {
    "colab_type": "text",
    "id": "F_VZsY4J6y_0"
   }
  },
  {
   "cell_type": "markdown",
   "source": [
    "19) Fix the following bill calculation by adding a 15% gratuity."
   ],
   "metadata": {
    "colab_type": "text",
    "id": "4vX2ih9y6y_0"
   }
  },
  {
   "cell_type": "code",
   "execution_count": null,
   "source": [
    "var restaurantBill = 10.00\r\n",
    "// add 15% to the bill here\r\n",
    "console.log('Total: $' + restaurantBill.toFixed(2))"
   ],
   "outputs": [],
   "metadata": {
    "colab": {},
    "colab_type": "code",
    "id": "vE2lw-j66y_1"
   }
  },
  {
   "cell_type": "markdown",
   "source": [
    "Total: $11.50"
   ],
   "metadata": {
    "colab_type": "text",
    "id": "6IVRe1Qh6y_5"
   }
  },
  {
   "cell_type": "markdown",
   "source": [
    "---"
   ],
   "metadata": {
    "colab_type": "text",
    "id": "A68QJSUp6y_5"
   }
  },
  {
   "cell_type": "markdown",
   "source": [
    "20) Correct the following inventory count by subtracting the number of items sold from the total."
   ],
   "metadata": {
    "colab_type": "text",
    "id": "xZuKb1vx6y_6"
   }
  },
  {
   "cell_type": "code",
   "execution_count": null,
   "source": [
    "var totalItems = 100\r\n",
    "var itemsSold = 42\r\n",
    "// correct the total here\r\n",
    "console.log(`Sold: ${itemsSold}, Remaining: ${totalItems}`)"
   ],
   "outputs": [],
   "metadata": {
    "colab": {},
    "colab_type": "code",
    "id": "hj4qG8JN6y_7"
   }
  },
  {
   "cell_type": "markdown",
   "source": [
    "Sold: 42, Remaining: 58"
   ],
   "metadata": {
    "colab_type": "text",
    "id": "_Yy8M9Tt6y_-"
   }
  },
  {
   "cell_type": "markdown",
   "source": [
    "---\n",
    "\n",
    "### Part C - Math (15pts)\n",
    "\n",
    "Create a JavaScript program that calculates the roots of a quadratic equation using the equation, $x = \\large {-b \\pm \\sqrt{b^2 - 4ac} \\over 2a}$.\n",
    "\n",
    "You can assume that the equations used will always have two defined roots. (i.e. ${a \\ne 0}$)\n",
    "\n",
    "The program should allow the user to input the three variables of the formula, a, b, and c, and then output the resulting roots.\n",
    "\n",
    "Example:\n",
    "\n",
    "<div style=\"width:800px\"><img src=\"img/quadratic.gif\" /></div>"
   ],
   "metadata": {}
  },
  {
   "cell_type": "code",
   "execution_count": null,
   "source": [],
   "outputs": [],
   "metadata": {}
  }
 ],
 "metadata": {
  "colab": {
   "collapsed_sections": [],
   "name": "Assignment 1 - Input and Output.ipynb",
   "provenance": [],
   "toc_visible": true,
   "version": "0.3.2"
  },
  "hide_input": false,
  "kernelspec": {
   "display_name": "Javascript (Node.js)",
   "language": "javascript",
   "name": "javascript"
  },
  "language_info": {
   "name": "javascript",
   "version": "16.9.1",
   "mimetype": "application/javascript",
   "file_extension": ".js"
  }
 },
 "nbformat": 4,
 "nbformat_minor": 4
}