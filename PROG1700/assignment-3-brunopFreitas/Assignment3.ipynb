{
 "cells": [
  {
   "cell_type": "markdown",
   "metadata": {},
   "source": [
    "# Assignment 3\n",
    "\n",
    "### Total : 26pts"
   ]
  },
  {
   "cell_type": "code",
   "execution_count": 4,
   "metadata": {},
   "outputs": [
    {
     "name": "stdout",
     "output_type": "stream",
     "text": [
      "Name: Bruno Freitas, StudentID: W0448225\n"
     ]
    }
   ],
   "source": [
    "// create an array to hold your name and student number, \n",
    "// then display your name and number using elements from the array\n",
    "var nameNumber = [\"Bruno Freitas\", \"W0448225\"]\n",
    "console.log(`Name: %s, StudentID: %s`, nameNumber[0], nameNumber[1])\n"
   ]
  },
  {
   "cell_type": "markdown",
   "metadata": {},
   "source": [
    "Name: Jane Doe, StudentID: w123456"
   ]
  },
  {
   "cell_type": "markdown",
   "metadata": {},
   "source": [
    "### Part A - Small Bits (15pts)\n",
    "\n",
    "For each item below, determine the appropriate Python code to generate the desired output.\n",
    "\n",
    "---"
   ]
  },
  {
   "cell_type": "code",
   "execution_count": 7,
   "metadata": {},
   "outputs": [
    {
     "name": "stdout",
     "output_type": "stream",
     "text": [
      "Input and Output\n",
      "Conditionals\n"
     ]
    }
   ],
   "source": [
    "// create a list of all assignment names in this course\n",
    "// then loop through the list and print the names of all the \n",
    "// assignments, except the current one.\n",
    "var assignmentList = ['Input and Output','Conditionals','Arrays and Objects']\n",
    "for (var i=0;i<=assignmentList.length-1;i++){\n",
    "    if (assignmentList[i]!=='Arrays and Objects') {\n",
    "        console.log(assignmentList[i])\n",
    "    }\n",
    "}\n"
   ]
  },
  {
   "cell_type": "code",
   "execution_count": 13,
   "metadata": {},
   "outputs": [
    {
     "name": "stdout",
     "output_type": "stream",
     "text": [
      "First course name:  Professional Practices for IT I\n",
      "Last course code:  OSYS1200\n"
     ]
    }
   ],
   "source": [
    "// create an array of your courses this semester. \n",
    "// make each item another array that includes both the course code and the course name\n",
    "// e.g. 'PROG1700' and 'Logic and Programming I'\n",
    "// then print out the first course name in the list and the last course code\n",
    "var courseID = []\n",
    "courseID[0] = 'COMM1700'\n",
    "courseID[1] = 'PROG1700'\n",
    "courseID[2] = 'NETW1700'\n",
    "courseID[3] = 'WEBD1000'\n",
    "courseID[4] = 'OSYS1200'\n",
    "var courseName = []\n",
    "courseName[0] = 'Professional Practices for IT I'\n",
    "courseName[1] = 'Logic and Programming I'\n",
    "courseName[2] = 'Introduction to Networking and Security'\n",
    "courseName[3] = 'Website Development'\n",
    "courseName[4] = 'Introduction to Windows Administration'\n",
    "var courseList = [\n",
    "    [courseID[0], courseName[0]],\n",
    "    [courseID[1], courseName[1]],\n",
    "    [courseID[2], courseName[2]],\n",
    "    [courseID[3], courseName[3]],\n",
    "    [courseID[4], courseName[4]],\n",
    "]\n",
    "console.log('First course name: ', courseList[0][1])\n",
    "console.log('Last course code: ', courseList[4][0])\n"
   ]
  },
  {
   "cell_type": "code",
   "execution_count": 43,
   "metadata": {},
   "outputs": [
    {
     "name": "stdout",
     "output_type": "stream",
     "text": [
      "eLiTe hAcKeR\n"
     ]
    }
   ],
   "source": [
    "// create a program that takes a word or phrase\n",
    "// then makes every odd letter upper case and every even letter lower case\n",
    "// print out the resulting word (on a single line)\n",
    "\n",
    "// change the casing of this phrase\n",
    "var word = 'elite hacker'\n",
    "var wordChanged = Array.from(word)\n",
    "\n",
    "for (var i=0;i<= wordChanged.length-1; i++) {\n",
    "    if(i%2!==0) {\n",
    "        wordChanged[i] = wordChanged[i].toUpperCase()\n",
    "    } else {\n",
    "        wordChanged[i] = wordChanged[i].toLowerCase()\n",
    "    }\n",
    "}\n",
    "console.log(wordChanged.join(\"\"))"
   ]
  },
  {
   "cell_type": "code",
   "execution_count": null,
   "metadata": {},
   "outputs": [],
   "source": [
    "// create a dictionary that maps each letter of the alphabet to a different letter\n",
    "// e.g. a = x, b = q, c = p, ...\n",
    "// then use that dictionary to encrypt the following message\n",
    "// the resulting encrypted message should be all capital letters and contain no\n",
    "// punctuation or spaces.\n",
    "\n",
    "message = 'This is the great and powerful Oz.'\n",
    "\n",
    "// add your code here\n"
   ]
  },
  {
   "cell_type": "code",
   "execution_count": null,
   "metadata": {},
   "outputs": [],
   "source": [
    "// create a program that produces an acronym from a series of words\n",
    "// e.g. the output should be 'NSCC'\n",
    "\n",
    "var text = \"Nova Scotia Community College\"\n",
    "\n",
    "// add your code here\n"
   ]
  },
  {
   "cell_type": "markdown",
   "metadata": {},
   "source": [
    "---\n",
    "### Part B - Big Bytes! (11pts)\n",
    "\n",
    "The following are more challenging questions. Be patient when tackling these!"
   ]
  },
  {
   "cell_type": "code",
   "execution_count": null,
   "metadata": {},
   "outputs": [],
   "source": [
    "// create a program that converts a date in the format \"mm/dd/yy\"\n",
    "// to a date in the format \"dd-mmm-yyyy\" using the provided string.\n",
    "// e.g. 10/25/19 => 25-Oct-2019\n",
    "// Note: you can assume all dates are >= 2000\n",
    "\n",
    "// 3 pts\n",
    "\n",
    "var date = \"10/25/19\" // sample date\n",
    "\n",
    "// use this provided string\n",
    "var months = \"JanFebMarAprMayJunJulAugSepOctNovDec\"\n",
    "\n",
    "// put your code here\n"
   ]
  },
  {
   "cell_type": "code",
   "execution_count": null,
   "metadata": {},
   "outputs": [],
   "source": [
    "// create a program that generates an array containing the name and mark \n",
    "// of the assignment with the lowest grade\n",
    "\n",
    "// 3 pts\n",
    "\n",
    "var assignments = {\n",
    "    'Assignment 1': 45,\n",
    "    'Assignment 2': 65,\n",
    "    'Assignment 3': 12,\n",
    "    'Assignment 4': 78,\n",
    "    'Assignment 5': 52\n",
    "}\n",
    "\n",
    "// put your code here\n"
   ]
  },
  {
   "cell_type": "code",
   "execution_count": null,
   "metadata": {},
   "outputs": [],
   "source": [
    "// create a program to capitalize the first letter of each sentence.\n",
    "// the output should look like this:\n",
    "\n",
    "// This is a story about a man named jed.\n",
    "// A poor mountaineer. Barely kept his family fed.\n",
    "// Then one day he was shooting at some food,\n",
    "// and out from the ground came a bubblin' crude.\n",
    "\n",
    "// 5 pts\n",
    "\n",
    "var story = `\n",
    "this is a story about a man named jed.\n",
    "a poor mountaineer. barely kept his family fed.\n",
    "then one day he was shooting at some food,\n",
    "and out from the ground came a bubblin' crude.\n",
    "`\n",
    "\n",
    "// put your code here\n"
   ]
  }
 ],
 "metadata": {
  "hide_input": false,
  "kernel_info": {
   "name": "python3"
  },
  "kernelspec": {
   "display_name": "Javascript (Node.js)",
   "language": "javascript",
   "name": "javascript"
  },
  "language_info": {
   "file_extension": ".js",
   "mimetype": "application/javascript",
   "name": "javascript",
   "version": "16.10.0"
  },
  "nteract": {
   "version": "0.15.0"
  }
 },
 "nbformat": 4,
 "nbformat_minor": 4
}
