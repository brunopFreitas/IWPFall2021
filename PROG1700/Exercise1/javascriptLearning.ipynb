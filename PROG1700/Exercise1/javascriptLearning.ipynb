{
 "cells": [
  {
   "cell_type": "code",
   "execution_count": 4,
   "id": "4638a1ef-afbb-4015-bbbd-2653984abe50",
   "metadata": {},
   "outputs": [
    {
     "name": "stdout",
     "output_type": "stream",
     "text": [
      "hellooo\n",
      "brunoFreitas\n",
      "My name is:  brunoFreitas\n",
      "My name is: brunoFreitas\n"
     ]
    }
   ],
   "source": [
    "console.log(\"hellooo\")\n",
    "var myName = \"brunoFreitas\"\n",
    "console.log(myName)\n",
    "console.log(\"My name is: \", myName)\n",
    "console.log(\"My name is: \" + myName)\n"
   ]
  }
 ],
 "metadata": {
  "kernelspec": {
   "display_name": "Javascript (Node.js)",
   "language": "javascript",
   "name": "javascript"
  },
  "language_info": {
   "file_extension": ".js",
   "mimetype": "application/javascript",
   "name": "javascript",
   "version": "16.9.1"
  }
 },
 "nbformat": 4,
 "nbformat_minor": 5
}
