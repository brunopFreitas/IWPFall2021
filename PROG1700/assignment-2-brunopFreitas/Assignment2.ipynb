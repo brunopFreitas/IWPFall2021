{
 "cells": [
  {
   "cell_type": "markdown",
   "metadata": {
    "colab_type": "text",
    "id": "-ycSUdCI6y9U"
   },
   "source": [
    "# Assignment 2\n",
    "\n",
    "### Total : 27pts"
   ]
  },
  {
   "cell_type": "code",
   "execution_count": 4,
   "metadata": {},
   "outputs": [
    {
     "name": "stdout",
     "output_type": "stream",
     "text": [
      "Name: Bruno Freitas\n",
      "Student#: W0448225\n"
     ]
    }
   ],
   "source": [
    "// write a program to print your name and student number using variables and variable substitution\n",
    "var name\n",
    "var studentNumber\n",
    "name = \"Bruno Freitas\"\n",
    "studentNumber = \"W0448225\"\n",
    "console.log(`Name: %s\\nStudent#: %s`, name, studentNumber)"
   ]
  },
  {
   "cell_type": "markdown",
   "metadata": {},
   "source": [
    "Name: John Doe  \n",
    "Student #: W0123456"
   ]
  },
  {
   "cell_type": "markdown",
   "metadata": {
    "colab_type": "text",
    "id": "Wu4GRcHW6y9Z"
   },
   "source": [
    "### Part A - Write Code! (16pts)\n",
    "\n",
    "For each item below, determine the appropriate JavaScript code to generate the desired output.\n",
    "\n",
    "---"
   ]
  },
  {
   "cell_type": "code",
   "execution_count": 7,
   "metadata": {},
   "outputs": [
    {
     "name": "stdout",
     "output_type": "stream",
     "text": [
      "This is a even number\n"
     ]
    }
   ],
   "source": [
    "// write a small program that will take a variable containing a number \n",
    "// and print out \"EVEN\" if the number is a even number and nothing if it is odd.\n",
    "// 1 pt\n",
    "\n",
    "var number = 4 // is this an EVEN number?\n",
    "var remainder = number%2\n",
    "if (remainder === 0) {\n",
    "    console.log(\"This is a even number\")\n",
    "}"
   ]
  },
  {
   "cell_type": "code",
   "execution_count": 16,
   "metadata": {},
   "outputs": [],
   "source": [
    "// write a small program that will take a variable containing a single character \n",
    "// and print out \"letter\" if it is between the letters 'a' and 'z'\n",
    "// 2 pts\n",
    "\n",
    "var character = 'x' // is this a letter?\n",
    "var isLetterLow = character.match(/[a-z]/i)\n",
    "var isLetterUp = character.match(/[A-Z]/i)\n",
    "if (isLetterLow !== null || isLetterUp !== null) {\n",
    "    console.log(\"Is Letter\")\n",
    "}\n",
    "//source: https://developer.mozilla.org/en-US/docs/Web/JavaScript/Reference/Global_Objects/String/match"
   ]
  },
  {
   "cell_type": "code",
   "execution_count": 19,
   "metadata": {},
   "outputs": [
    {
     "name": "stdout",
     "output_type": "stream",
     "text": [
      "ALARM!\n"
     ]
    }
   ],
   "source": [
    "// write a small program to compare the contents of a variable with the secret code '12345'\n",
    "// if the variable contents match the code print \"UNLOCKED!\" otherwise have it print \"ALARM!\"\n",
    "// 2 pts\n",
    "var secretCode = '12345'\n",
    "var enteredCode = '12346' // is this the secret code?\n",
    "if (enteredCode === secretCode) {\n",
    "    console.log(\"UNLOCKED!\")\n",
    "} else {\n",
    "    console.log(\"ALARM!\")\n",
    "}"
   ]
  },
  {
   "cell_type": "code",
   "execution_count": 23,
   "metadata": {},
   "outputs": [
    {
     "name": "stdout",
     "output_type": "stream",
     "text": [
      "This is a zero\n"
     ]
    }
   ],
   "source": [
    "// create a program that will take an integer variable\n",
    "// then output whether the number is \"negative\", \"positive\" or \"zero\"\n",
    "// 3 pts\n",
    "\n",
    "var integer = -10 // is this negative, positive or zero?\n",
    "if (integer>0) {\n",
    "    console.log(\"This is a positive number\")\n",
    "} else if (integer<0) {\n",
    "    console.log(\"This is a negative number\")\n",
    "} else if (integer===0) {\n",
    "    console.log(\"This is a zero\")\n",
    "}"
   ]
  },
  {
   "cell_type": "code",
   "execution_count": 36,
   "metadata": {},
   "outputs": [
    {
     "name": "stdout",
     "output_type": "stream",
     "text": [
      "I'll choose double my Penny each day for 30 days, because It'll value: 536,870,912\n"
     ]
    }
   ],
   "source": [
    "// create a program that solves that age old question, \n",
    "// \"Would you choose $1 Million dollars or get a single penny that doubles every day for a month?\"\n",
    "// (e.g. Day 1 = 1¢, Day 2 = 2¢, Day 3 = 4¢, ..., Day 30 = ?)\n",
    "// by calculating the total amount you would get on Day 30\n",
    "// Note 1: just display the amount for Day 30, not the values for other days\n",
    "// Note 2: display the final number as a dollar amount, not in pennies\n",
    "// 3 pts\n",
    "var dollarPenny = 1\n",
    "var dollarTotal = dollarPenny\n",
    "for(var i = 2; i<=30 ; i++) {\n",
    "    dollarTotal = dollarTotal * 2;\n",
    "}\n",
    "if (dollarTotal<1000000) {\n",
    "    console.log(\"I'll choose $1 Million dollars\")\n",
    "} else {\n",
    "    console.log(\"I'll choose double my Penny each day for 30 days, because It'll value: \" + dollarTotal.toLocaleString())\n",
    "    //source: https://developer.mozilla.org/en-US/docs/Web/JavaScript/Reference/Global_Objects/Number/toLocaleString\n",
    "}"
   ]
  },
  {
   "cell_type": "code",
   "execution_count": 48,
   "metadata": {},
   "outputs": [
    {
     "name": "stdout",
     "output_type": "stream",
     "text": [
      "         o\n",
      "        ooo\n",
      "       ooooo\n",
      "      ooooooo\n",
      "     ooooooooo\n",
      "    ooooooooooo\n",
      "     ooooooooooooo\n",
      "      ooooooooooooooo\n",
      "       ooooooooooooooooo\n",
      "        ooooooooooooooooooo\n",
      "         ooooooooooooooooooooo\n",
      "          ooooooooooooooooooooooo\n",
      "           ooooooooooooooooooooooooo\n",
      "            ooooooooooooooooooooooooooo\n",
      "             ooooooooooooooooooooooooooooo\n",
      "              ooooooooooooooooooooooooooooooo\n",
      "               ooooooooooooooooooooooooooooooooo\n",
      "                ooooooooooooooooooooooooooooooooooo\n",
      "                 ooooooooooooooooooooooooooooooooooooo\n",
      "                  ooooooooooooooooooooooooooooooooooooooo\n"
     ]
    },
    {
     "data": {
      "text/plain": [
       "18"
      ]
     },
     "execution_count": 48,
     "metadata": {},
     "output_type": "execute_result"
    }
   ],
   "source": [
    "// create a program that outputs the following pattern, not including the '#'s,\n",
    "// using loops (i.e. not individual console.log statements)\n",
    "// 5 pts\n",
    "\n",
    "//         o\n",
    "//        ooo\n",
    "//       ooooo\n",
    "//      ooooooo\n",
    "//     ooooooooo\n",
    "//    ooooooooooo\n",
    "//   ooooooooooooo\n",
    "//  ooooooooooooooo\n",
    "// ooooooooooooooooo\n",
    "//ooooooooooooooooooo\n",
    "// ooooooooooooooooo\n",
    "//  ooooooooooooooo\n",
    "//   ooooooooooooo\n",
    "//    ooooooooooo\n",
    "//     ooooooooo\n",
    "//      ooooooo\n",
    "//       ooooo\n",
    "//        ooo\n",
    "//         o\n",
    "var t = 9;\n",
    "for (var i=0; i<=19; i++) {\n",
    "    var odd = 2*i+1\n",
    "    if (odd <=9) {\n",
    "        console.log(\" \".repeat(t) + \"o\".repeat(odd))\n",
    "        t--\n",
    "    }\n",
    "    if (odd>9) {\n",
    "        console.log(\" \".repeat(t) + \"o\".repeat(odd))\n",
    "        t++\n",
    "    }\n",
    "}"
   ]
  },
  {
   "cell_type": "markdown",
   "metadata": {},
   "source": [
    "---\n",
    "### Part B - Figure it out! (11pts)\n",
    "\n",
    "For the following, you will need to understand how the program works in order to solve the problem."
   ]
  },
  {
   "cell_type": "code",
   "execution_count": null,
   "metadata": {},
   "outputs": [],
   "source": [
    "// modify the following to output the odd numbers \"5 3 1 -1 -3 -5\"\n",
    "// 2 pts\n",
    "var output = \"\"\n",
    "for (var i = 0; i < 5; i++) {\n",
    "    output += `${i} `\n",
    "}\n",
    "console.log(output)"
   ]
  },
  {
   "cell_type": "code",
   "execution_count": null,
   "metadata": {},
   "outputs": [],
   "source": [
    "// make a single change to make the following statement true\n",
    "// 1 pt\n",
    "10 <= 10 && (true || false) && !(4 < 5)"
   ]
  },
  {
   "cell_type": "code",
   "execution_count": null,
   "metadata": {},
   "outputs": [],
   "source": [
    "// the following program converts the number '1' to the day 'Sunday', \n",
    "// modify the program so that if the variable 'day' is between 1-7,\n",
    "// the program will output the corresponding day 'Sunday'-'Saturday'\n",
    "// 3 pts\n",
    "var day = 1\n",
    "if (day == 1) {\n",
    "    day = \"Sunday\"\n",
    "}\n",
    "console.log(day)"
   ]
  },
  {
   "cell_type": "code",
   "execution_count": null,
   "metadata": {},
   "outputs": [],
   "source": [
    "// determine what value to change the variable \"magic_num\" to in order to print out the message\n",
    "// 5 pts\n",
    "\n",
    "// Just change the number to the real magic number! Yep, that's it!\n",
    "// Please keep your answer from others. The fun is solving the puzzle after all!\n",
    "var magic_num = 0\n",
    "\n",
    "// don't modify the following code\n",
    "var check = 0\n",
    "while (check < 129) {\n",
    "    for (var i = 0; i < 5; i++) {\n",
    "        magic_num -= 7\n",
    "    }\n",
    "    check += 9\n",
    "}\n",
    "if (magic_num == 0) {\n",
    "    console.log(\"You found the magic number!\")\n",
    "} else {\n",
    "    console.log(\"Not yet. Keep trying!\")\n",
    "}"
   ]
  },
  {
   "cell_type": "code",
   "execution_count": null,
   "metadata": {},
   "outputs": [],
   "source": []
  }
 ],
 "metadata": {
  "hide_input": false,
  "kernelspec": {
   "display_name": "Javascript (Node.js)",
   "language": "javascript",
   "name": "javascript"
  },
  "language_info": {
   "file_extension": ".js",
   "mimetype": "application/javascript",
   "name": "javascript",
   "version": "16.8.0"
  },
  "nteract": {
   "version": "0.15.0"
  }
 },
 "nbformat": 4,
 "nbformat_minor": 4
}
