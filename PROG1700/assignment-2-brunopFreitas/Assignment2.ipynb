{
 "cells": [
  {
   "cell_type": "markdown",
   "metadata": {
    "colab_type": "text",
    "id": "-ycSUdCI6y9U"
   },
   "source": [
    "# Assignment 2\n",
    "\n",
    "### Total : 27pts"
   ]
  },
  {
   "cell_type": "code",
   "execution_count": 1,
   "metadata": {},
   "outputs": [],
   "source": [
    "// write a program to print your name and student number using variables and variable substitution\n"
   ]
  },
  {
   "cell_type": "markdown",
   "metadata": {},
   "source": [
    "Name: John Doe  \n",
    "Student #: W0123456"
   ]
  },
  {
   "cell_type": "markdown",
   "metadata": {
    "colab_type": "text",
    "id": "Wu4GRcHW6y9Z"
   },
   "source": [
    "### Part A - Write Code! (16pts)\n",
    "\n",
    "For each item below, determine the appropriate JavaScript code to generate the desired output.\n",
    "\n",
    "---"
   ]
  },
  {
   "cell_type": "code",
   "execution_count": 2,
   "metadata": {},
   "outputs": [],
   "source": [
    "// write a small program that will take a variable containing a number \n",
    "// and print out \"EVEN\" if the number is a even number and nothing if it is odd.\n",
    "// 1 pt\n",
    "\n",
    "var number = 4 // is this an EVEN number?\n"
   ]
  },
  {
   "cell_type": "code",
   "execution_count": 3,
   "metadata": {},
   "outputs": [],
   "source": [
    "// write a small program that will take a variable containing a single character \n",
    "// and print out \"letter\" if it is between the letters 'a' and 'z'\n",
    "// 2 pts\n",
    "\n",
    "var character = 'x' // is this a letter?\n"
   ]
  },
  {
   "cell_type": "code",
   "execution_count": 4,
   "metadata": {},
   "outputs": [],
   "source": [
    "// write a small program to compare the contents of a variable with the secret code '12345'\n",
    "// if the variable contents match the code print \"UNLOCKED!\" otherwise have it print \"ALARM!\"\n",
    "// 2 pts\n",
    "\n",
    "var enteredCode = '12346' // is this the secret code?\n"
   ]
  },
  {
   "cell_type": "code",
   "execution_count": 5,
   "metadata": {},
   "outputs": [],
   "source": [
    "// create a program that will take an integer variable\n",
    "// then output whether the number is \"negative\", \"positive\" or \"zero\"\n",
    "// 3 pts\n",
    "\n",
    "var integer = -10 // is this negative, positive or zero?\n"
   ]
  },
  {
   "cell_type": "code",
   "execution_count": 6,
   "metadata": {},
   "outputs": [],
   "source": [
    "// create a program that solves that age old question, \n",
    "// \"Would you choose $1 Million dollars or get a single penny that doubles every day for a month?\"\n",
    "// (e.g. Day 1 = 1¢, Day 2 = 2¢, Day 3 = 4¢, ..., Day 30 = ?)\n",
    "// by calculating the total amount you would get on Day 30\n",
    "// Note 1: just display the amount for Day 30, not the values for other days\n",
    "// Note 2: display the final number as a dollar amount, not in pennies\n",
    "// 3 pts\n"
   ]
  },
  {
   "cell_type": "code",
   "execution_count": 7,
   "metadata": {},
   "outputs": [],
   "source": [
    "// create a program that outputs the following pattern, not including the '#'s,\n",
    "// using loops (i.e. not individual console.log statements)\n",
    "// 5 pts\n",
    "\n",
    "//         o\n",
    "//        ooo\n",
    "//       ooooo\n",
    "//      ooooooo\n",
    "//     ooooooooo\n",
    "//    ooooooooooo\n",
    "//   ooooooooooooo\n",
    "//  ooooooooooooooo\n",
    "// ooooooooooooooooo\n",
    "//ooooooooooooooooooo\n",
    "// ooooooooooooooooo\n",
    "//  ooooooooooooooo\n",
    "//   ooooooooooooo\n",
    "//    ooooooooooo\n",
    "//     ooooooooo\n",
    "//      ooooooo\n",
    "//       ooooo\n",
    "//        ooo\n",
    "//         o\n",
    "\n"
   ]
  },
  {
   "cell_type": "markdown",
   "metadata": {},
   "source": [
    "---\n",
    "### Part B - Figure it out! (11pts)\n",
    "\n",
    "For the following, you will need to understand how the program works in order to solve the problem."
   ]
  },
  {
   "cell_type": "code",
   "execution_count": null,
   "metadata": {},
   "outputs": [],
   "source": [
    "// modify the following to output the odd numbers \"5 3 1 -1 -3 -5\"\n",
    "// 2 pts\n",
    "var output = \"\"\n",
    "for (var i = 0; i < 5; i++) {\n",
    "    output += `${i} `\n",
    "}\n",
    "console.log(output)"
   ]
  },
  {
   "cell_type": "code",
   "execution_count": null,
   "metadata": {},
   "outputs": [],
   "source": [
    "// make a single change to make the following statement true\n",
    "// 1 pt\n",
    "10 <= 10 && (true || false) && !(4 < 5)"
   ]
  },
  {
   "cell_type": "code",
   "execution_count": null,
   "metadata": {},
   "outputs": [],
   "source": [
    "// the following program converts the number '1' to the day 'Sunday', \n",
    "// modify the program so that if the variable 'day' is between 1-7,\n",
    "// the program will output the corresponding day 'Sunday'-'Saturday'\n",
    "// 3 pts\n",
    "var day = 1\n",
    "if (day == 1) {\n",
    "    day = \"Sunday\"\n",
    "}\n",
    "console.log(day)"
   ]
  },
  {
   "cell_type": "code",
   "execution_count": null,
   "metadata": {},
   "outputs": [],
   "source": [
    "// determine what value to change the variable \"magic_num\" to in order to print out the message\n",
    "// 5 pts\n",
    "\n",
    "// Just change the number to the real magic number! Yep, that's it!\n",
    "// Please keep your answer from others. The fun is solving the puzzle after all!\n",
    "var magic_num = 0\n",
    "\n",
    "// don't modify the following code\n",
    "var check = 0\n",
    "while (check < 129) {\n",
    "    for (var i = 0; i < 5; i++) {\n",
    "        magic_num -= 7\n",
    "    }\n",
    "    check += 9\n",
    "}\n",
    "if (magic_num == 0) {\n",
    "    console.log(\"You found the magic number!\")\n",
    "} else {\n",
    "    console.log(\"Not yet. Keep trying!\")\n",
    "}"
   ]
  },
  {
   "cell_type": "code",
   "execution_count": null,
   "metadata": {},
   "outputs": [],
   "source": []
  }
 ],
 "metadata": {
  "hide_input": false,
  "kernelspec": {
   "display_name": "Javascript (Node.js)",
   "language": "javascript",
   "name": "javascript"
  },
  "language_info": {
   "file_extension": ".js",
   "mimetype": "application/javascript",
   "name": "javascript",
   "version": "16.8.0"
  },
  "nteract": {
   "version": "0.15.0"
  }
 },
 "nbformat": 4,
 "nbformat_minor": 4
}
